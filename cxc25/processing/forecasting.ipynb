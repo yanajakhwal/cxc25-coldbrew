{
 "cells": [
  {
   "cell_type": "markdown",
   "metadata": {},
   "source": [
    "Total Investment Growth"
   ]
  },
  {
   "cell_type": "code",
   "execution_count": null,
   "metadata": {},
   "outputs": [],
   "source": [
    "import pandas as pd\n",
    "import numpy as np\n",
    "import matplotlib.pyplot as plt\n",
    "from sklearn.linear_model import LinearRegression\n",
    "\n",
    "df = pd.read_csv(\"../data/deals_updated.csv\")\n",
    "df[\"date\"] = pd.to_datetime(df[\"date\"], errors=\"coerce\")\n",
    "df[\"amount\"] = pd.to_numeric(df[\"amount\"], errors=\"coerce\")\n",
    "df = df.dropna(subset=[\"date\", \"amount\"])\n",
    "df[\"year_quarter\"] = df[\"date\"].dt.to_period(\"Q\")\n",
    "quarterly_investment = df.groupby(\"year_quarter\")[\"amount\"].sum().reset_index()\n",
    "\n",
    "quarterly_investment[\"Moving_Avg\"] = quarterly_investment[\"amount\"].rolling(window=4, min_periods=1).mean()\n",
    "quarterly_investment[\"quarter_index\"] = np.arange(len(quarterly_investment))\n",
    "\n",
    "X = quarterly_investment[[\"quarter_index\"]]\n",
    "y = quarterly_investment[\"Moving_Avg\"]\n",
    "model = LinearRegression().fit(X, y)\n",
    "\n",
    "forecast_steps = 12\n",
    "future_quarters = [str(quarterly_investment[\"year_quarter\"].iloc[-1] + i) for i in range(1, forecast_steps + 1)]\n",
    "future_index = np.arange(len(quarterly_investment), len(quarterly_investment) + forecast_steps).reshape(-1, 1)\n",
    "\n",
    "forecast_values = model.predict(future_index)\n",
    "\n",
    "# plot \n",
    "plt.figure(figsize=(10, 5))\n",
    "plt.plot(quarterly_investment[\"year_quarter\"].astype(str), quarterly_investment[\"amount\"], label=\"Historical Data\", marker=\"o\", linestyle=\"-\")\n",
    "plt.plot(quarterly_investment[\"year_quarter\"].astype(str), quarterly_investment[\"Moving_Avg\"], label=\"Moving Average\", linestyle=\"dashed\", color=\"orange\")\n",
    "plt.plot(future_quarters, forecast_values, label=\"Trend Forecast (Next 12 Quarters)\", linestyle=\"dashed\", marker=\"o\", color=\"red\")\n",
    "plt.xlabel(\"Quarter\")\n",
    "plt.ylabel(\"Investment Amount ($)\")\n",
    "plt.title(\"Quarterly Investment Forecast (Linear Trend)\")\n",
    "plt.xticks(rotation=45)\n",
    "plt.legend()\n",
    "plt.grid()\n",
    "plt.show()"
   ]
  },
  {
   "cell_type": "markdown",
   "metadata": {},
   "source": [
    "Funding Stage Trends"
   ]
  },
  {
   "cell_type": "code",
   "execution_count": null,
   "metadata": {},
   "outputs": [],
   "source": [
    "import pandas as pd\n",
    "import numpy as np\n",
    "import matplotlib.pyplot as plt\n",
    "from statsmodels.tsa.arima.model import ARIMA\n",
    "\n",
    "df = pd.read_csv(\"../data/deals_updated.csv\")\n",
    "df[\"date\"] = pd.to_datetime(df[\"date\"], errors=\"coerce\")\n",
    "df[\"amount\"] = pd.to_numeric(df[\"amount\"], errors=\"coerce\")\n",
    "df = df.dropna(subset=[\"date\", \"amount\"])\n",
    "df[\"year\"] = df[\"date\"].dt.year\n",
    "yearly_deals = df.groupby(\"year\").size().reset_index(name=\"deal_count\")\n",
    "df[\"deal_category\"] = pd.cut(df[\"amount\"], \n",
    "                             bins=[100000, 1e6, 10e6, 100e6, np.inf],\n",
    "                             labels=[\"Small\", \"Mid\", \"Large\", \"Mega\"])\n",
    "yearly_avg_size = df.groupby([\"year\", \"deal_category\"])[\"amount\"].mean().unstack()\n",
    "\n",
    "merged_df = yearly_deals.merge(yearly_avg_size, on=\"year\", how=\"left\")\n",
    "forecast_steps = 3\n",
    "future_years = list(range(2025, 2025 + forecast_steps))\n",
    "\n",
    "deal_model = ARIMA(merged_df[\"deal_count\"].dropna(), order=(1, 1, 1))\n",
    "deal_model_fit = deal_model.fit()\n",
    "deal_forecast = deal_model_fit.forecast(steps=forecast_steps)\n",
    "\n",
    "forecast_results = {}\n",
    "\n",
    "for category in [\"Small\", \"Mid\", \"Large\"]:\n",
    "    if category in merged_df.columns and merged_df[category].dropna().shape[0] > 5:  # Ensure enough data\n",
    "        model = ARIMA(merged_df[category].dropna(), order=(1, 1, 1))\n",
    "        model_fit = model.fit()\n",
    "        forecast = model_fit.forecast(steps=forecast_steps)\n",
    "        forecast_results[category] = forecast\n",
    "\n",
    "plt.figure(figsize=(10, 5))\n",
    "plt.plot(merged_df[\"year\"], merged_df[\"deal_count\"], label=\"Historical Deal Volume\", marker=\"o\", linestyle=\"-\")\n",
    "plt.plot(future_years, deal_forecast, label=\"Forecasted Deals (2025-2027)\", linestyle=\"dashed\", marker=\"o\", color=\"red\")\n",
    "\n",
    "plt.xlabel(\"Year\")\n",
    "plt.ylabel(\"Number of Deals\")\n",
    "plt.title(\"Deal Volume Forecast\")\n",
    "plt.legend()\n",
    "plt.grid()\n",
    "plt.show()\n",
    "\n",
    "plt.figure(figsize=(10, 5))\n",
    "for category, forecast in forecast_results.items():\n",
    "    plt.plot(future_years, forecast, label=f\"Forecast {category} Deals\", linestyle=\"dashed\", marker=\"o\")\n",
    "\n",
    "plt.xlabel(\"Year\")\n",
    "plt.ylabel(\"Avg Deal Size ($)\")\n",
    "plt.title(\"Funding Size Forecast by Deal Category\")\n",
    "plt.legend()\n",
    "plt.grid()\n",
    "plt.show()"
   ]
  },
  {
   "cell_type": "code",
   "execution_count": null,
   "metadata": {},
   "outputs": [],
   "source": [
    "import pandas as pd\n",
    "import numpy as np\n",
    "import matplotlib.pyplot as plt\n",
    "from statsmodels.tsa.arima.model import ARIMA\n",
    "from statsmodels.tsa.holtwinters import ExponentialSmoothing\n",
    "\n",
    "df = pd.read_csv(\"../data/deals_updated.csv\")\n",
    "df[\"date\"] = pd.to_datetime(df[\"date\"], errors=\"coerce\")\n",
    "df[\"amount\"] = pd.to_numeric(df[\"amount\"], errors=\"coerce\")\n",
    "df = df.dropna(subset=[\"date\", \"amount\"])\n",
    "df[\"year\"] = df[\"date\"].dt.year\n",
    "\n",
    "deal_counts = df.groupby(\"year\").size().reset_index(name=\"deal_count\")\n",
    "df[\"deal_category\"] = pd.cut(\n",
    "    df[\"amount\"],\n",
    "    bins=[100000, 1e6, 10e6, 100e6, np.inf],\n",
    "    labels=[\"Small\", \"Mid\", \"Large\", \"Mega\"]\n",
    ")\n",
    "\n",
    "deal_size_trends = df.groupby([\"year\", \"deal_category\"])[\"amount\"].mean().unstack()\n",
    "deal_count_model = ARIMA(deal_counts[\"deal_count\"], order=(1, 1, 1))\n",
    "deal_count_fit = deal_count_model.fit()\n",
    "future_deal_counts = deal_count_fit.forecast(steps=3)\n",
    "\n",
    "inflation_rate = 0.03  # Can be adjusted dynamically\n",
    "adjusted_forecast = future_deal_counts * (1 + inflation_rate) ** np.arange(1, 4)\n",
    "\n",
    "exp_model = ExponentialSmoothing(deal_counts[\"deal_count\"], trend=\"add\", seasonal=None)\n",
    "exp_fit = exp_model.fit()\n",
    "exp_forecast = exp_fit.forecast(steps=3)\n",
    "\n",
    "future_years = [2025, 2026, 2027]\n",
    "\n",
    "plt.figure(figsize=(10, 5))\n",
    "plt.plot(deal_counts[\"year\"], deal_counts[\"deal_count\"], label=\"Historical Deals\", marker=\"o\")\n",
    "plt.plot(future_years, adjusted_forecast, label=\"Inflation-Adjusted Forecast\", linestyle=\"dashed\", marker=\"o\", color=\"red\")\n",
    "plt.plot(future_years, exp_forecast, label=\"Exponential Smoothing Forecast\", linestyle=\"dotted\", marker=\"x\", color=\"green\")\n",
    "\n",
    "plt.xlabel(\"Year\")\n",
    "plt.ylabel(\"Total Deals\")\n",
    "plt.title(\"Deal Count Forecast (2025-2027)\")\n",
    "plt.legend()\n",
    "plt.grid()\n",
    "plt.show()\n",
    "\n",
    "deal_size_forecast = {}\n",
    "for category in [\"Small\", \"Mid\", \"Large\"]:\n",
    "    if category in deal_size_trends.columns:\n",
    "        model = ARIMA(deal_size_trends[category].dropna(), order=(1, 1, 1))\n",
    "        model_fit = model.fit()\n",
    "        forecast = model_fit.forecast(steps=3)\n",
    "        deal_size_forecast[category] = forecast * ((1 + inflation_rate) ** np.arange(1, 4))  # Adjust for inflation\n",
    "\n",
    "plt.figure(figsize=(10, 5))\n",
    "for category, forecast in deal_size_forecast.items():\n",
    "    plt.plot(future_years, forecast, label=f\"{category} Deals Forecast\", linestyle=\"dashed\", marker=\"o\")\n",
    "\n",
    "plt.xlabel(\"Year\")\n",
    "plt.ylabel(\"Average Deal Size ($)\")\n",
    "plt.title(\"Funding Size Forecast Adjusted for Inflation\")\n",
    "plt.legend()\n",
    "plt.grid()\n",
    "plt.show()"
   ]
  },
  {
   "cell_type": "markdown",
   "metadata": {},
   "source": [
    "Funding Stages Forecast"
   ]
  },
  {
   "cell_type": "code",
   "execution_count": 5,
   "metadata": {},
   "outputs": [
    {
     "name": "stderr",
     "output_type": "stream",
     "text": [
      "/Users/yanajakhwal/Desktop/Projects/cxc25/env3/lib/python3.10/site-packages/statsmodels/tsa/base/tsa_model.py:473: ValueWarning:\n",
      "\n",
      "An unsupported index was provided and will be ignored when e.g. forecasting.\n",
      "\n",
      "/Users/yanajakhwal/Desktop/Projects/cxc25/env3/lib/python3.10/site-packages/statsmodels/tsa/base/tsa_model.py:473: ValueWarning:\n",
      "\n",
      "An unsupported index was provided and will be ignored when e.g. forecasting.\n",
      "\n",
      "/Users/yanajakhwal/Desktop/Projects/cxc25/env3/lib/python3.10/site-packages/statsmodels/tsa/base/tsa_model.py:473: ValueWarning:\n",
      "\n",
      "An unsupported index was provided and will be ignored when e.g. forecasting.\n",
      "\n",
      "/Users/yanajakhwal/Desktop/Projects/cxc25/env3/lib/python3.10/site-packages/statsmodels/tsa/base/tsa_model.py:836: ValueWarning:\n",
      "\n",
      "No supported index is available. Prediction results will be given with an integer index beginning at `start`.\n",
      "\n",
      "/Users/yanajakhwal/Desktop/Projects/cxc25/env3/lib/python3.10/site-packages/statsmodels/tsa/base/tsa_model.py:836: FutureWarning:\n",
      "\n",
      "No supported index is available. In the next version, calling this method in a model without a supported index will result in an exception.\n",
      "\n",
      "/Users/yanajakhwal/Desktop/Projects/cxc25/env3/lib/python3.10/site-packages/statsmodels/tsa/base/tsa_model.py:473: ValueWarning:\n",
      "\n",
      "An unsupported index was provided and will be ignored when e.g. forecasting.\n",
      "\n",
      "/Users/yanajakhwal/Desktop/Projects/cxc25/env3/lib/python3.10/site-packages/statsmodels/tsa/base/tsa_model.py:473: ValueWarning:\n",
      "\n",
      "An unsupported index was provided and will be ignored when e.g. forecasting.\n",
      "\n",
      "/Users/yanajakhwal/Desktop/Projects/cxc25/env3/lib/python3.10/site-packages/statsmodels/tsa/base/tsa_model.py:473: ValueWarning:\n",
      "\n",
      "An unsupported index was provided and will be ignored when e.g. forecasting.\n",
      "\n",
      "/Users/yanajakhwal/Desktop/Projects/cxc25/env3/lib/python3.10/site-packages/statsmodels/tsa/base/tsa_model.py:836: ValueWarning:\n",
      "\n",
      "No supported index is available. Prediction results will be given with an integer index beginning at `start`.\n",
      "\n",
      "/Users/yanajakhwal/Desktop/Projects/cxc25/env3/lib/python3.10/site-packages/statsmodels/tsa/base/tsa_model.py:836: FutureWarning:\n",
      "\n",
      "No supported index is available. In the next version, calling this method in a model without a supported index will result in an exception.\n",
      "\n",
      "/Users/yanajakhwal/Desktop/Projects/cxc25/env3/lib/python3.10/site-packages/statsmodels/tsa/base/tsa_model.py:473: ValueWarning:\n",
      "\n",
      "An unsupported index was provided and will be ignored when e.g. forecasting.\n",
      "\n",
      "/Users/yanajakhwal/Desktop/Projects/cxc25/env3/lib/python3.10/site-packages/statsmodels/tsa/base/tsa_model.py:473: ValueWarning:\n",
      "\n",
      "An unsupported index was provided and will be ignored when e.g. forecasting.\n",
      "\n",
      "/Users/yanajakhwal/Desktop/Projects/cxc25/env3/lib/python3.10/site-packages/statsmodels/tsa/base/tsa_model.py:473: ValueWarning:\n",
      "\n",
      "An unsupported index was provided and will be ignored when e.g. forecasting.\n",
      "\n",
      "/Users/yanajakhwal/Desktop/Projects/cxc25/env3/lib/python3.10/site-packages/statsmodels/tsa/statespace/sarimax.py:966: UserWarning:\n",
      "\n",
      "Non-stationary starting autoregressive parameters found. Using zeros as starting parameters.\n",
      "\n",
      "/Users/yanajakhwal/Desktop/Projects/cxc25/env3/lib/python3.10/site-packages/statsmodels/tsa/statespace/sarimax.py:978: UserWarning:\n",
      "\n",
      "Non-invertible starting MA parameters found. Using zeros as starting parameters.\n",
      "\n",
      "/Users/yanajakhwal/Desktop/Projects/cxc25/env3/lib/python3.10/site-packages/statsmodels/tsa/base/tsa_model.py:836: ValueWarning:\n",
      "\n",
      "No supported index is available. Prediction results will be given with an integer index beginning at `start`.\n",
      "\n",
      "/Users/yanajakhwal/Desktop/Projects/cxc25/env3/lib/python3.10/site-packages/statsmodels/tsa/base/tsa_model.py:836: FutureWarning:\n",
      "\n",
      "No supported index is available. In the next version, calling this method in a model without a supported index will result in an exception.\n",
      "\n",
      "/Users/yanajakhwal/Desktop/Projects/cxc25/env3/lib/python3.10/site-packages/statsmodels/tsa/base/tsa_model.py:473: ValueWarning:\n",
      "\n",
      "An unsupported index was provided and will be ignored when e.g. forecasting.\n",
      "\n",
      "/Users/yanajakhwal/Desktop/Projects/cxc25/env3/lib/python3.10/site-packages/statsmodels/tsa/base/tsa_model.py:473: ValueWarning:\n",
      "\n",
      "An unsupported index was provided and will be ignored when e.g. forecasting.\n",
      "\n",
      "/Users/yanajakhwal/Desktop/Projects/cxc25/env3/lib/python3.10/site-packages/statsmodels/tsa/base/tsa_model.py:473: ValueWarning:\n",
      "\n",
      "An unsupported index was provided and will be ignored when e.g. forecasting.\n",
      "\n",
      "/Users/yanajakhwal/Desktop/Projects/cxc25/env3/lib/python3.10/site-packages/statsmodels/tsa/statespace/sarimax.py:966: UserWarning:\n",
      "\n",
      "Non-stationary starting autoregressive parameters found. Using zeros as starting parameters.\n",
      "\n",
      "/Users/yanajakhwal/Desktop/Projects/cxc25/env3/lib/python3.10/site-packages/statsmodels/tsa/statespace/sarimax.py:978: UserWarning:\n",
      "\n",
      "Non-invertible starting MA parameters found. Using zeros as starting parameters.\n",
      "\n",
      "/Users/yanajakhwal/Desktop/Projects/cxc25/env3/lib/python3.10/site-packages/statsmodels/base/model.py:607: ConvergenceWarning:\n",
      "\n",
      "Maximum Likelihood optimization failed to converge. Check mle_retvals\n",
      "\n",
      "/Users/yanajakhwal/Desktop/Projects/cxc25/env3/lib/python3.10/site-packages/statsmodels/tsa/base/tsa_model.py:836: ValueWarning:\n",
      "\n",
      "No supported index is available. Prediction results will be given with an integer index beginning at `start`.\n",
      "\n",
      "/Users/yanajakhwal/Desktop/Projects/cxc25/env3/lib/python3.10/site-packages/statsmodels/tsa/base/tsa_model.py:836: FutureWarning:\n",
      "\n",
      "No supported index is available. In the next version, calling this method in a model without a supported index will result in an exception.\n",
      "\n",
      "/Users/yanajakhwal/Desktop/Projects/cxc25/env3/lib/python3.10/site-packages/statsmodels/tsa/base/tsa_model.py:473: ValueWarning:\n",
      "\n",
      "An unsupported index was provided and will be ignored when e.g. forecasting.\n",
      "\n",
      "/Users/yanajakhwal/Desktop/Projects/cxc25/env3/lib/python3.10/site-packages/statsmodels/tsa/base/tsa_model.py:473: ValueWarning:\n",
      "\n",
      "An unsupported index was provided and will be ignored when e.g. forecasting.\n",
      "\n",
      "/Users/yanajakhwal/Desktop/Projects/cxc25/env3/lib/python3.10/site-packages/statsmodels/tsa/base/tsa_model.py:473: ValueWarning:\n",
      "\n",
      "An unsupported index was provided and will be ignored when e.g. forecasting.\n",
      "\n",
      "/Users/yanajakhwal/Desktop/Projects/cxc25/env3/lib/python3.10/site-packages/statsmodels/tsa/statespace/sarimax.py:966: UserWarning:\n",
      "\n",
      "Non-stationary starting autoregressive parameters found. Using zeros as starting parameters.\n",
      "\n",
      "/Users/yanajakhwal/Desktop/Projects/cxc25/env3/lib/python3.10/site-packages/statsmodels/tsa/statespace/sarimax.py:978: UserWarning:\n",
      "\n",
      "Non-invertible starting MA parameters found. Using zeros as starting parameters.\n",
      "\n",
      "/Users/yanajakhwal/Desktop/Projects/cxc25/env3/lib/python3.10/site-packages/statsmodels/tsa/base/tsa_model.py:836: ValueWarning:\n",
      "\n",
      "No supported index is available. Prediction results will be given with an integer index beginning at `start`.\n",
      "\n",
      "/Users/yanajakhwal/Desktop/Projects/cxc25/env3/lib/python3.10/site-packages/statsmodels/tsa/base/tsa_model.py:836: FutureWarning:\n",
      "\n",
      "No supported index is available. In the next version, calling this method in a model without a supported index will result in an exception.\n",
      "\n",
      "/Users/yanajakhwal/Desktop/Projects/cxc25/env3/lib/python3.10/site-packages/statsmodels/tsa/base/tsa_model.py:473: ValueWarning:\n",
      "\n",
      "An unsupported index was provided and will be ignored when e.g. forecasting.\n",
      "\n",
      "/Users/yanajakhwal/Desktop/Projects/cxc25/env3/lib/python3.10/site-packages/statsmodels/tsa/base/tsa_model.py:473: ValueWarning:\n",
      "\n",
      "An unsupported index was provided and will be ignored when e.g. forecasting.\n",
      "\n",
      "/Users/yanajakhwal/Desktop/Projects/cxc25/env3/lib/python3.10/site-packages/statsmodels/tsa/base/tsa_model.py:473: ValueWarning:\n",
      "\n",
      "An unsupported index was provided and will be ignored when e.g. forecasting.\n",
      "\n",
      "/Users/yanajakhwal/Desktop/Projects/cxc25/env3/lib/python3.10/site-packages/statsmodels/tsa/base/tsa_model.py:836: ValueWarning:\n",
      "\n",
      "No supported index is available. Prediction results will be given with an integer index beginning at `start`.\n",
      "\n",
      "/Users/yanajakhwal/Desktop/Projects/cxc25/env3/lib/python3.10/site-packages/statsmodels/tsa/base/tsa_model.py:836: FutureWarning:\n",
      "\n",
      "No supported index is available. In the next version, calling this method in a model without a supported index will result in an exception.\n",
      "\n",
      "/Users/yanajakhwal/Desktop/Projects/cxc25/env3/lib/python3.10/site-packages/statsmodels/tsa/base/tsa_model.py:473: ValueWarning:\n",
      "\n",
      "An unsupported index was provided and will be ignored when e.g. forecasting.\n",
      "\n",
      "/Users/yanajakhwal/Desktop/Projects/cxc25/env3/lib/python3.10/site-packages/statsmodels/tsa/base/tsa_model.py:473: ValueWarning:\n",
      "\n",
      "An unsupported index was provided and will be ignored when e.g. forecasting.\n",
      "\n",
      "/Users/yanajakhwal/Desktop/Projects/cxc25/env3/lib/python3.10/site-packages/statsmodels/tsa/base/tsa_model.py:473: ValueWarning:\n",
      "\n",
      "An unsupported index was provided and will be ignored when e.g. forecasting.\n",
      "\n",
      "/Users/yanajakhwal/Desktop/Projects/cxc25/env3/lib/python3.10/site-packages/statsmodels/tsa/statespace/sarimax.py:966: UserWarning:\n",
      "\n",
      "Non-stationary starting autoregressive parameters found. Using zeros as starting parameters.\n",
      "\n",
      "/Users/yanajakhwal/Desktop/Projects/cxc25/env3/lib/python3.10/site-packages/statsmodels/tsa/statespace/sarimax.py:978: UserWarning:\n",
      "\n",
      "Non-invertible starting MA parameters found. Using zeros as starting parameters.\n",
      "\n",
      "/Users/yanajakhwal/Desktop/Projects/cxc25/env3/lib/python3.10/site-packages/statsmodels/tsa/base/tsa_model.py:836: ValueWarning:\n",
      "\n",
      "No supported index is available. Prediction results will be given with an integer index beginning at `start`.\n",
      "\n",
      "/Users/yanajakhwal/Desktop/Projects/cxc25/env3/lib/python3.10/site-packages/statsmodels/tsa/base/tsa_model.py:836: FutureWarning:\n",
      "\n",
      "No supported index is available. In the next version, calling this method in a model without a supported index will result in an exception.\n",
      "\n",
      "/Users/yanajakhwal/Desktop/Projects/cxc25/env3/lib/python3.10/site-packages/statsmodels/tsa/base/tsa_model.py:473: ValueWarning:\n",
      "\n",
      "An unsupported index was provided and will be ignored when e.g. forecasting.\n",
      "\n",
      "/Users/yanajakhwal/Desktop/Projects/cxc25/env3/lib/python3.10/site-packages/statsmodels/tsa/base/tsa_model.py:473: ValueWarning:\n",
      "\n",
      "An unsupported index was provided and will be ignored when e.g. forecasting.\n",
      "\n",
      "/Users/yanajakhwal/Desktop/Projects/cxc25/env3/lib/python3.10/site-packages/statsmodels/tsa/base/tsa_model.py:473: ValueWarning:\n",
      "\n",
      "An unsupported index was provided and will be ignored when e.g. forecasting.\n",
      "\n",
      "/Users/yanajakhwal/Desktop/Projects/cxc25/env3/lib/python3.10/site-packages/statsmodels/tsa/statespace/sarimax.py:966: UserWarning:\n",
      "\n",
      "Non-stationary starting autoregressive parameters found. Using zeros as starting parameters.\n",
      "\n",
      "/Users/yanajakhwal/Desktop/Projects/cxc25/env3/lib/python3.10/site-packages/statsmodels/tsa/statespace/sarimax.py:978: UserWarning:\n",
      "\n",
      "Non-invertible starting MA parameters found. Using zeros as starting parameters.\n",
      "\n",
      "/Users/yanajakhwal/Desktop/Projects/cxc25/env3/lib/python3.10/site-packages/statsmodels/tsa/base/tsa_model.py:836: ValueWarning:\n",
      "\n",
      "No supported index is available. Prediction results will be given with an integer index beginning at `start`.\n",
      "\n",
      "/Users/yanajakhwal/Desktop/Projects/cxc25/env3/lib/python3.10/site-packages/statsmodels/tsa/base/tsa_model.py:836: FutureWarning:\n",
      "\n",
      "No supported index is available. In the next version, calling this method in a model without a supported index will result in an exception.\n",
      "\n",
      "/Users/yanajakhwal/Desktop/Projects/cxc25/env3/lib/python3.10/site-packages/statsmodels/tsa/base/tsa_model.py:473: ValueWarning:\n",
      "\n",
      "An unsupported index was provided and will be ignored when e.g. forecasting.\n",
      "\n",
      "/Users/yanajakhwal/Desktop/Projects/cxc25/env3/lib/python3.10/site-packages/statsmodels/tsa/base/tsa_model.py:473: ValueWarning:\n",
      "\n",
      "An unsupported index was provided and will be ignored when e.g. forecasting.\n",
      "\n",
      "/Users/yanajakhwal/Desktop/Projects/cxc25/env3/lib/python3.10/site-packages/statsmodels/tsa/base/tsa_model.py:473: ValueWarning:\n",
      "\n",
      "An unsupported index was provided and will be ignored when e.g. forecasting.\n",
      "\n",
      "/Users/yanajakhwal/Desktop/Projects/cxc25/env3/lib/python3.10/site-packages/statsmodels/tsa/base/tsa_model.py:836: ValueWarning:\n",
      "\n",
      "No supported index is available. Prediction results will be given with an integer index beginning at `start`.\n",
      "\n",
      "/Users/yanajakhwal/Desktop/Projects/cxc25/env3/lib/python3.10/site-packages/statsmodels/tsa/base/tsa_model.py:836: FutureWarning:\n",
      "\n",
      "No supported index is available. In the next version, calling this method in a model without a supported index will result in an exception.\n",
      "\n",
      "/Users/yanajakhwal/Desktop/Projects/cxc25/env3/lib/python3.10/site-packages/statsmodels/tsa/base/tsa_model.py:473: ValueWarning:\n",
      "\n",
      "An unsupported index was provided and will be ignored when e.g. forecasting.\n",
      "\n",
      "/Users/yanajakhwal/Desktop/Projects/cxc25/env3/lib/python3.10/site-packages/statsmodels/tsa/base/tsa_model.py:473: ValueWarning:\n",
      "\n",
      "An unsupported index was provided and will be ignored when e.g. forecasting.\n",
      "\n",
      "/Users/yanajakhwal/Desktop/Projects/cxc25/env3/lib/python3.10/site-packages/statsmodels/tsa/base/tsa_model.py:473: ValueWarning:\n",
      "\n",
      "An unsupported index was provided and will be ignored when e.g. forecasting.\n",
      "\n",
      "/Users/yanajakhwal/Desktop/Projects/cxc25/env3/lib/python3.10/site-packages/statsmodels/tsa/base/tsa_model.py:836: ValueWarning:\n",
      "\n",
      "No supported index is available. Prediction results will be given with an integer index beginning at `start`.\n",
      "\n",
      "/Users/yanajakhwal/Desktop/Projects/cxc25/env3/lib/python3.10/site-packages/statsmodels/tsa/base/tsa_model.py:836: FutureWarning:\n",
      "\n",
      "No supported index is available. In the next version, calling this method in a model without a supported index will result in an exception.\n",
      "\n",
      "/Users/yanajakhwal/Desktop/Projects/cxc25/env3/lib/python3.10/site-packages/statsmodels/tsa/base/tsa_model.py:473: ValueWarning:\n",
      "\n",
      "An unsupported index was provided and will be ignored when e.g. forecasting.\n",
      "\n",
      "/Users/yanajakhwal/Desktop/Projects/cxc25/env3/lib/python3.10/site-packages/statsmodels/tsa/base/tsa_model.py:473: ValueWarning:\n",
      "\n",
      "An unsupported index was provided and will be ignored when e.g. forecasting.\n",
      "\n",
      "/Users/yanajakhwal/Desktop/Projects/cxc25/env3/lib/python3.10/site-packages/statsmodels/tsa/base/tsa_model.py:473: ValueWarning:\n",
      "\n",
      "An unsupported index was provided and will be ignored when e.g. forecasting.\n",
      "\n",
      "/Users/yanajakhwal/Desktop/Projects/cxc25/env3/lib/python3.10/site-packages/statsmodels/tsa/statespace/sarimax.py:978: UserWarning:\n",
      "\n",
      "Non-invertible starting MA parameters found. Using zeros as starting parameters.\n",
      "\n",
      "/Users/yanajakhwal/Desktop/Projects/cxc25/env3/lib/python3.10/site-packages/statsmodels/tsa/base/tsa_model.py:836: ValueWarning:\n",
      "\n",
      "No supported index is available. Prediction results will be given with an integer index beginning at `start`.\n",
      "\n",
      "/Users/yanajakhwal/Desktop/Projects/cxc25/env3/lib/python3.10/site-packages/statsmodels/tsa/base/tsa_model.py:836: FutureWarning:\n",
      "\n",
      "No supported index is available. In the next version, calling this method in a model without a supported index will result in an exception.\n",
      "\n",
      "/Users/yanajakhwal/Desktop/Projects/cxc25/env3/lib/python3.10/site-packages/statsmodels/tsa/base/tsa_model.py:473: ValueWarning:\n",
      "\n",
      "An unsupported index was provided and will be ignored when e.g. forecasting.\n",
      "\n",
      "/Users/yanajakhwal/Desktop/Projects/cxc25/env3/lib/python3.10/site-packages/statsmodels/tsa/base/tsa_model.py:473: ValueWarning:\n",
      "\n",
      "An unsupported index was provided and will be ignored when e.g. forecasting.\n",
      "\n",
      "/Users/yanajakhwal/Desktop/Projects/cxc25/env3/lib/python3.10/site-packages/statsmodels/tsa/base/tsa_model.py:473: ValueWarning:\n",
      "\n",
      "An unsupported index was provided and will be ignored when e.g. forecasting.\n",
      "\n",
      "/Users/yanajakhwal/Desktop/Projects/cxc25/env3/lib/python3.10/site-packages/statsmodels/tsa/base/tsa_model.py:836: ValueWarning:\n",
      "\n",
      "No supported index is available. Prediction results will be given with an integer index beginning at `start`.\n",
      "\n",
      "/Users/yanajakhwal/Desktop/Projects/cxc25/env3/lib/python3.10/site-packages/statsmodels/tsa/base/tsa_model.py:836: FutureWarning:\n",
      "\n",
      "No supported index is available. In the next version, calling this method in a model without a supported index will result in an exception.\n",
      "\n"
     ]
    },
    {
     "data": {
      "application/vnd.plotly.v1+json": {
       "config": {
        "plotlyServerURL": "https://plot.ly"
       },
       "data": [
        {
         "mode": "lines+markers",
         "name": "Historical Equity Crowdfunding Deals",
         "type": "scatter",
         "x": {
          "bdata": "4wcAAOQHAADlBwAA5gcAAOcHAADoBwAA6QcAAA==",
          "dtype": "i4"
         },
         "y": {
          "bdata": "AAAAAAAAAAAAAAAAAAAAAAAAAAAAACBAAAAAAAAAAAAAAAAAAAAAAAAAAAAAAPA/AAAAAAAAAAA=",
          "dtype": "f8"
         }
        },
        {
         "mode": "lines+markers",
         "name": "Historical Grant Deals",
         "type": "scatter",
         "x": {
          "bdata": "4wcAAOQHAADlBwAA5gcAAOcHAADoBwAA6QcAAA==",
          "dtype": "i4"
         },
         "y": {
          "bdata": "AAAAAAAACEAAAAAAAAAYQAAAAAAAADhAAAAAAAAAEEAAAAAAAADwPwAAAAAAAAhAAAAAAAAAAAA=",
          "dtype": "f8"
         }
        },
        {
         "mode": "lines+markers",
         "name": "Historical Pre-Seed Deals",
         "type": "scatter",
         "x": {
          "bdata": "4wcAAOQHAADlBwAA5gcAAOcHAADoBwAA6QcAAA==",
          "dtype": "i4"
         },
         "y": {
          "bdata": "AAAAAACAYkAAAAAAAMBZQAAAAAAAwGFAAAAAAACATkAAAAAAAIBCQAAAAAAAgEVAAAAAAAAAEEA=",
          "dtype": "f8"
         }
        },
        {
         "mode": "lines+markers",
         "name": "Historical Seed Deals",
         "type": "scatter",
         "x": {
          "bdata": "4wcAAOQHAADlBwAA5gcAAOcHAADoBwAA6QcAAA==",
          "dtype": "i4"
         },
         "y": {
          "bdata": "AAAAAACAbkAAAAAAAEBtQAAAAAAAwHBAAAAAAABAZEAAAAAAAIBRQAAAAAAAQFRAAAAAAAAAHEA=",
          "dtype": "f8"
         }
        },
        {
         "mode": "lines+markers",
         "name": "Historical Series A Deals",
         "type": "scatter",
         "x": {
          "bdata": "4wcAAOQHAADlBwAA5gcAAOcHAADoBwAA6QcAAA==",
          "dtype": "i4"
         },
         "y": {
          "bdata": "AAAAAABAU0AAAAAAAEBhQAAAAAAAoGFAAAAAAABAXEAAAAAAAABTQAAAAAAAQFFAAAAAAAAAHEA=",
          "dtype": "f8"
         }
        },
        {
         "mode": "lines+markers",
         "name": "Historical Series B Deals",
         "type": "scatter",
         "x": {
          "bdata": "4wcAAOQHAADlBwAA5gcAAOcHAADoBwAA6QcAAA==",
          "dtype": "i4"
         },
         "y": {
          "bdata": "AAAAAACATEAAAAAAAIBBQAAAAAAAgFFAAAAAAAAAR0AAAAAAAIBDQAAAAAAAAD5AAAAAAAAAFEA=",
          "dtype": "f8"
         }
        },
        {
         "mode": "lines+markers",
         "name": "Historical Series C Deals",
         "type": "scatter",
         "x": {
          "bdata": "4wcAAOQHAADlBwAA5gcAAOcHAADoBwAA6QcAAA==",
          "dtype": "i4"
         },
         "y": {
          "bdata": "AAAAAAAALkAAAAAAAAAyQAAAAAAAADdAAAAAAAAAM0AAAAAAAAAoQAAAAAAAAChAAAAAAAAACEA=",
          "dtype": "f8"
         }
        },
        {
         "mode": "lines+markers",
         "name": "Historical Series D Deals",
         "type": "scatter",
         "x": {
          "bdata": "4wcAAOQHAADlBwAA5gcAAOcHAADoBwAA6QcAAA==",
          "dtype": "i4"
         },
         "y": {
          "bdata": "AAAAAAAAJkAAAAAAAAAUQAAAAAAAABxAAAAAAAAAFEAAAAAAAAAQQAAAAAAAABBAAAAAAAAAAAA=",
          "dtype": "f8"
         }
        },
        {
         "mode": "lines+markers",
         "name": "Historical Series D+ Deals",
         "type": "scatter",
         "x": {
          "bdata": "4wcAAOQHAADlBwAA5gcAAOcHAADoBwAA6QcAAA==",
          "dtype": "i4"
         },
         "y": {
          "bdata": "AAAAAAAA8D8AAAAAAAAAQAAAAAAAACJAAAAAAAAAEEAAAAAAAAAgQAAAAAAAACJAAAAAAAAA8D8=",
          "dtype": "f8"
         }
        },
        {
         "mode": "lines+markers",
         "name": "Historical Series E Deals",
         "type": "scatter",
         "x": {
          "bdata": "4wcAAOQHAADlBwAA5gcAAOcHAADoBwAA6QcAAA==",
          "dtype": "i4"
         },
         "y": {
          "bdata": "AAAAAAAA8D8AAAAAAAAIQAAAAAAAABRAAAAAAAAAAEAAAAAAAADwPwAAAAAAAPA/AAAAAAAAAAA=",
          "dtype": "f8"
         }
        },
        {
         "mode": "lines+markers",
         "name": "Historical Series F Deals",
         "type": "scatter",
         "x": {
          "bdata": "4wcAAOQHAADlBwAA5gcAAOcHAADoBwAA6QcAAA==",
          "dtype": "i4"
         },
         "y": {
          "bdata": "AAAAAAAAAAAAAAAAAAAAAAAAAAAAAABAAAAAAAAAAAAAAAAAAADwPwAAAAAAAPA/AAAAAAAAAAA=",
          "dtype": "f8"
         }
        },
        {
         "mode": "lines+markers",
         "name": "Historical Series G Deals",
         "type": "scatter",
         "x": {
          "bdata": "4wcAAOQHAADlBwAA5gcAAOcHAADoBwAA6QcAAA==",
          "dtype": "i4"
         },
         "y": {
          "bdata": "AAAAAAAAAAAAAAAAAAAAAAAAAAAAAABAAAAAAAAA8D8AAAAAAAAAAAAAAAAAAAAAAAAAAAAAAAA=",
          "dtype": "f8"
         }
        },
        {
         "line": {
          "dash": "dash"
         },
         "mode": "lines+markers",
         "name": "ARIMA Forecast Equity Crowdfunding",
         "type": "scatter",
         "x": [
          2025,
          2026,
          2027
         ],
         "y": {
          "bdata": "joz9r8Kc9z9CGf1+W+r0P7YvAT42OfU/",
          "dtype": "f8"
         }
        },
        {
         "line": {
          "dash": "dash"
         },
         "mode": "lines+markers",
         "name": "ARIMA Forecast Grant",
         "type": "scatter",
         "x": [
          2025,
          2026,
          2027
         ],
         "y": {
          "bdata": "gCL4+Rc0EkCc1qowfJYVQJoeh+qPNxZA",
          "dtype": "f8"
         }
        },
        {
         "line": {
          "dash": "dash"
         },
         "mode": "lines+markers",
         "name": "ARIMA Forecast Pre-Seed",
         "type": "scatter",
         "x": [
          2025,
          2026,
          2027
         ],
         "y": {
          "bdata": "IEI9+MLqFUCMv0jhWTQQQLpGU0Q4uBVA",
          "dtype": "f8"
         }
        },
        {
         "line": {
          "dash": "dash"
         },
         "mode": "lines+markers",
         "name": "ARIMA Forecast Seed",
         "type": "scatter",
         "x": [
          2025,
          2026,
          2027
         ],
         "y": {
          "bdata": "vp3b1UTEMcC/MQwdn0NFwJR6gg870lDA",
          "dtype": "f8"
         }
        },
        {
         "line": {
          "dash": "dash"
         },
         "mode": "lines+markers",
         "name": "ARIMA Forecast Series A",
         "type": "scatter",
         "x": [
          2025,
          2026,
          2027
         ],
         "y": {
          "bdata": "J+N/Va3WNsApFa/wKGdBwJoIlfiGzUPA",
          "dtype": "f8"
         }
        },
        {
         "line": {
          "dash": "dash"
         },
         "mode": "lines+markers",
         "name": "ARIMA Forecast Series B",
         "type": "scatter",
         "x": [
          2025,
          2026,
          2027
         ],
         "y": {
          "bdata": "5TSccax7L0BsKNUVYwEjQCrqEEOsQCpA",
          "dtype": "f8"
         }
        },
        {
         "line": {
          "dash": "dash"
         },
         "mode": "lines+markers",
         "name": "ARIMA Forecast Series C",
         "type": "scatter",
         "x": [
          2025,
          2026,
          2027
         ],
         "y": {
          "bdata": "xouUYf998T9Ao8zMVfrDPyrhNl3nfdO/",
          "dtype": "f8"
         }
        },
        {
         "line": {
          "dash": "dash"
         },
         "mode": "lines+markers",
         "name": "ARIMA Forecast Series D",
         "type": "scatter",
         "x": [
          2025,
          2026,
          2027
         ],
         "y": {
          "bdata": "EXd2LIeyAkD+QgTIBYrlPyOZHEIOuv0/",
          "dtype": "f8"
         }
        },
        {
         "line": {
          "dash": "dash"
         },
         "mode": "lines+markers",
         "name": "ARIMA Forecast Series D+",
         "type": "scatter",
         "x": [
          2025,
          2026,
          2027
         ],
         "y": {
          "bdata": "J5kVczafEkDpLsco1DcTQKM6HRYNPhNA",
          "dtype": "f8"
         }
        },
        {
         "line": {
          "dash": "dash"
         },
         "mode": "lines+markers",
         "name": "ARIMA Forecast Series E",
         "type": "scatter",
         "x": [
          2025,
          2026,
          2027
         ],
         "y": {
          "bdata": "JPH8OR2Muj8avjl1COCmP1DDtliYCbQ/",
          "dtype": "f8"
         }
        },
        {
         "line": {
          "dash": "dash"
         },
         "mode": "lines+markers",
         "name": "ARIMA Forecast Series F",
         "type": "scatter",
         "x": [
          2025,
          2026,
          2027
         ],
         "y": {
          "bdata": "aCHmLy9o6z/0VttN4vjgPwLBBWPw8eQ/",
          "dtype": "f8"
         }
        },
        {
         "line": {
          "dash": "dash"
         },
         "mode": "lines+markers",
         "name": "ARIMA Forecast Series G",
         "type": "scatter",
         "x": [
          2025,
          2026,
          2027
         ],
         "y": {
          "bdata": "wLsPMSle0D/r/C8KMaTVP2dTBKgoV9c/",
          "dtype": "f8"
         }
        },
        {
         "line": {
          "dash": "dot"
         },
         "mode": "lines+markers",
         "name": "Logistic Forecast Equity Crowdfunding",
         "type": "scatter",
         "x": [
          2025,
          2026,
          2027
         ],
         "y": {
          "bdata": "687FU88YCEBTKs4d7ooQQIFyzPvq8xRA",
          "dtype": "f8"
         }
        },
        {
         "line": {
          "dash": "dot"
         },
         "mode": "lines+markers",
         "name": "Logistic Forecast Grant",
         "type": "scatter",
         "x": [
          2025,
          2026,
          2027
         ],
         "y": {
          "bdata": "uOccgaDdFUC1xwwn3RASQC6f1E8kLwpA",
          "dtype": "f8"
         }
        },
        {
         "line": {
          "dash": "dot"
         },
         "mode": "lines+markers",
         "name": "Logistic Forecast Pre-Seed",
         "type": "scatter",
         "x": [
          2025,
          2026,
          2027
         ],
         "y": {
          "bdata": "kjx6fm3gOEAam9oYG4cxQIKgBffdxiZA",
          "dtype": "f8"
         }
        },
        {
         "line": {
          "dash": "dot"
         },
         "mode": "lines+markers",
         "name": "Logistic Forecast Seed",
         "type": "scatter",
         "x": [
          2025,
          2026,
          2027
         ],
         "y": {
          "bdata": "UThxxwGGRkCgFu73S70/QMDJZ+FLnzRA",
          "dtype": "f8"
         }
        },
        {
         "line": {
          "dash": "dot"
         },
         "mode": "lines+markers",
         "name": "Logistic Forecast Series A",
         "type": "scatter",
         "x": [
          2025,
          2026,
          2027
         ],
         "y": {
          "bdata": "Bt1soA2ZREAr1tMnxKRDQPqTw590RkFA",
          "dtype": "f8"
         }
        },
        {
         "line": {
          "dash": "dot"
         },
         "mode": "lines+markers",
         "name": "Logistic Forecast Series B",
         "type": "scatter",
         "x": [
          2025,
          2026,
          2027
         ],
         "y": {
          "bdata": "y90z26dzNECwfdDpGYEzQOOYgjMXJzFA",
          "dtype": "f8"
         }
        },
        {
         "line": {
          "dash": "dot"
         },
         "mode": "lines+markers",
         "name": "Logistic Forecast Series C",
         "type": "scatter",
         "x": [
          2025,
          2026,
          2027
         ],
         "y": {
          "bdata": "iDSC+tQsLED1qUrxhJItQOKNDeu3LS5A",
          "dtype": "f8"
         }
        },
        {
         "line": {
          "dash": "dot"
         },
         "mode": "lines+markers",
         "name": "Logistic Forecast Series D",
         "type": "scatter",
         "x": [
          2025,
          2026,
          2027
         ],
         "y": {
          "bdata": "oLQRDLtcG0DydpKEJZUcQBqDV+x2Cx1A",
          "dtype": "f8"
         }
        },
        {
         "line": {
          "dash": "dot"
         },
         "mode": "lines+markers",
         "name": "Logistic Forecast Series D+",
         "type": "scatter",
         "x": [
          2025,
          2026,
          2027
         ],
         "y": {
          "bdata": "HqDW/AvszD/gF/XrCxbBP4USkiPu7LM/",
          "dtype": "f8"
         }
        },
        {
         "line": {
          "dash": "dot"
         },
         "mode": "lines+markers",
         "name": "Logistic Forecast Series E",
         "type": "scatter",
         "x": [
          2025,
          2026,
          2027
         ],
         "y": {
          "bdata": "sgdDUJyN+z9Id8gmJmPxPz27t1qZ0OI/",
          "dtype": "f8"
         }
        },
        {
         "line": {
          "dash": "dot"
         },
         "mode": "lines+markers",
         "name": "Logistic Forecast Series F",
         "type": "scatter",
         "x": [
          2025,
          2026,
          2027
         ],
         "y": {
          "bdata": "I60LD5008z96X90BCNb2PzwBJB4/wvk/",
          "dtype": "f8"
         }
        },
        {
         "line": {
          "dash": "dot"
         },
         "mode": "lines+markers",
         "name": "Logistic Forecast Series G",
         "type": "scatter",
         "x": [
          2025,
          2026,
          2027
         ],
         "y": {
          "bdata": "DYcOgCpB0j/bfRTrgT7SP8LAtZHZO9I/",
          "dtype": "f8"
         }
        }
       ],
       "layout": {
        "legend": {
         "title": {
          "text": "Funding Stages"
         },
         "x": 1,
         "xanchor": "left",
         "y": 1,
         "yanchor": "top"
        },
        "template": {
         "data": {
          "bar": [
           {
            "error_x": {
             "color": "#2a3f5f"
            },
            "error_y": {
             "color": "#2a3f5f"
            },
            "marker": {
             "line": {
              "color": "#E5ECF6",
              "width": 0.5
             },
             "pattern": {
              "fillmode": "overlay",
              "size": 10,
              "solidity": 0.2
             }
            },
            "type": "bar"
           }
          ],
          "barpolar": [
           {
            "marker": {
             "line": {
              "color": "#E5ECF6",
              "width": 0.5
             },
             "pattern": {
              "fillmode": "overlay",
              "size": 10,
              "solidity": 0.2
             }
            },
            "type": "barpolar"
           }
          ],
          "carpet": [
           {
            "aaxis": {
             "endlinecolor": "#2a3f5f",
             "gridcolor": "white",
             "linecolor": "white",
             "minorgridcolor": "white",
             "startlinecolor": "#2a3f5f"
            },
            "baxis": {
             "endlinecolor": "#2a3f5f",
             "gridcolor": "white",
             "linecolor": "white",
             "minorgridcolor": "white",
             "startlinecolor": "#2a3f5f"
            },
            "type": "carpet"
           }
          ],
          "choropleth": [
           {
            "colorbar": {
             "outlinewidth": 0,
             "ticks": ""
            },
            "type": "choropleth"
           }
          ],
          "contour": [
           {
            "colorbar": {
             "outlinewidth": 0,
             "ticks": ""
            },
            "colorscale": [
             [
              0,
              "#0d0887"
             ],
             [
              0.1111111111111111,
              "#46039f"
             ],
             [
              0.2222222222222222,
              "#7201a8"
             ],
             [
              0.3333333333333333,
              "#9c179e"
             ],
             [
              0.4444444444444444,
              "#bd3786"
             ],
             [
              0.5555555555555556,
              "#d8576b"
             ],
             [
              0.6666666666666666,
              "#ed7953"
             ],
             [
              0.7777777777777778,
              "#fb9f3a"
             ],
             [
              0.8888888888888888,
              "#fdca26"
             ],
             [
              1,
              "#f0f921"
             ]
            ],
            "type": "contour"
           }
          ],
          "contourcarpet": [
           {
            "colorbar": {
             "outlinewidth": 0,
             "ticks": ""
            },
            "type": "contourcarpet"
           }
          ],
          "heatmap": [
           {
            "colorbar": {
             "outlinewidth": 0,
             "ticks": ""
            },
            "colorscale": [
             [
              0,
              "#0d0887"
             ],
             [
              0.1111111111111111,
              "#46039f"
             ],
             [
              0.2222222222222222,
              "#7201a8"
             ],
             [
              0.3333333333333333,
              "#9c179e"
             ],
             [
              0.4444444444444444,
              "#bd3786"
             ],
             [
              0.5555555555555556,
              "#d8576b"
             ],
             [
              0.6666666666666666,
              "#ed7953"
             ],
             [
              0.7777777777777778,
              "#fb9f3a"
             ],
             [
              0.8888888888888888,
              "#fdca26"
             ],
             [
              1,
              "#f0f921"
             ]
            ],
            "type": "heatmap"
           }
          ],
          "histogram": [
           {
            "marker": {
             "pattern": {
              "fillmode": "overlay",
              "size": 10,
              "solidity": 0.2
             }
            },
            "type": "histogram"
           }
          ],
          "histogram2d": [
           {
            "colorbar": {
             "outlinewidth": 0,
             "ticks": ""
            },
            "colorscale": [
             [
              0,
              "#0d0887"
             ],
             [
              0.1111111111111111,
              "#46039f"
             ],
             [
              0.2222222222222222,
              "#7201a8"
             ],
             [
              0.3333333333333333,
              "#9c179e"
             ],
             [
              0.4444444444444444,
              "#bd3786"
             ],
             [
              0.5555555555555556,
              "#d8576b"
             ],
             [
              0.6666666666666666,
              "#ed7953"
             ],
             [
              0.7777777777777778,
              "#fb9f3a"
             ],
             [
              0.8888888888888888,
              "#fdca26"
             ],
             [
              1,
              "#f0f921"
             ]
            ],
            "type": "histogram2d"
           }
          ],
          "histogram2dcontour": [
           {
            "colorbar": {
             "outlinewidth": 0,
             "ticks": ""
            },
            "colorscale": [
             [
              0,
              "#0d0887"
             ],
             [
              0.1111111111111111,
              "#46039f"
             ],
             [
              0.2222222222222222,
              "#7201a8"
             ],
             [
              0.3333333333333333,
              "#9c179e"
             ],
             [
              0.4444444444444444,
              "#bd3786"
             ],
             [
              0.5555555555555556,
              "#d8576b"
             ],
             [
              0.6666666666666666,
              "#ed7953"
             ],
             [
              0.7777777777777778,
              "#fb9f3a"
             ],
             [
              0.8888888888888888,
              "#fdca26"
             ],
             [
              1,
              "#f0f921"
             ]
            ],
            "type": "histogram2dcontour"
           }
          ],
          "mesh3d": [
           {
            "colorbar": {
             "outlinewidth": 0,
             "ticks": ""
            },
            "type": "mesh3d"
           }
          ],
          "parcoords": [
           {
            "line": {
             "colorbar": {
              "outlinewidth": 0,
              "ticks": ""
             }
            },
            "type": "parcoords"
           }
          ],
          "pie": [
           {
            "automargin": true,
            "type": "pie"
           }
          ],
          "scatter": [
           {
            "fillpattern": {
             "fillmode": "overlay",
             "size": 10,
             "solidity": 0.2
            },
            "type": "scatter"
           }
          ],
          "scatter3d": [
           {
            "line": {
             "colorbar": {
              "outlinewidth": 0,
              "ticks": ""
             }
            },
            "marker": {
             "colorbar": {
              "outlinewidth": 0,
              "ticks": ""
             }
            },
            "type": "scatter3d"
           }
          ],
          "scattercarpet": [
           {
            "marker": {
             "colorbar": {
              "outlinewidth": 0,
              "ticks": ""
             }
            },
            "type": "scattercarpet"
           }
          ],
          "scattergeo": [
           {
            "marker": {
             "colorbar": {
              "outlinewidth": 0,
              "ticks": ""
             }
            },
            "type": "scattergeo"
           }
          ],
          "scattergl": [
           {
            "marker": {
             "colorbar": {
              "outlinewidth": 0,
              "ticks": ""
             }
            },
            "type": "scattergl"
           }
          ],
          "scattermap": [
           {
            "marker": {
             "colorbar": {
              "outlinewidth": 0,
              "ticks": ""
             }
            },
            "type": "scattermap"
           }
          ],
          "scattermapbox": [
           {
            "marker": {
             "colorbar": {
              "outlinewidth": 0,
              "ticks": ""
             }
            },
            "type": "scattermapbox"
           }
          ],
          "scatterpolar": [
           {
            "marker": {
             "colorbar": {
              "outlinewidth": 0,
              "ticks": ""
             }
            },
            "type": "scatterpolar"
           }
          ],
          "scatterpolargl": [
           {
            "marker": {
             "colorbar": {
              "outlinewidth": 0,
              "ticks": ""
             }
            },
            "type": "scatterpolargl"
           }
          ],
          "scatterternary": [
           {
            "marker": {
             "colorbar": {
              "outlinewidth": 0,
              "ticks": ""
             }
            },
            "type": "scatterternary"
           }
          ],
          "surface": [
           {
            "colorbar": {
             "outlinewidth": 0,
             "ticks": ""
            },
            "colorscale": [
             [
              0,
              "#0d0887"
             ],
             [
              0.1111111111111111,
              "#46039f"
             ],
             [
              0.2222222222222222,
              "#7201a8"
             ],
             [
              0.3333333333333333,
              "#9c179e"
             ],
             [
              0.4444444444444444,
              "#bd3786"
             ],
             [
              0.5555555555555556,
              "#d8576b"
             ],
             [
              0.6666666666666666,
              "#ed7953"
             ],
             [
              0.7777777777777778,
              "#fb9f3a"
             ],
             [
              0.8888888888888888,
              "#fdca26"
             ],
             [
              1,
              "#f0f921"
             ]
            ],
            "type": "surface"
           }
          ],
          "table": [
           {
            "cells": {
             "fill": {
              "color": "#EBF0F8"
             },
             "line": {
              "color": "white"
             }
            },
            "header": {
             "fill": {
              "color": "#C8D4E3"
             },
             "line": {
              "color": "white"
             }
            },
            "type": "table"
           }
          ]
         },
         "layout": {
          "annotationdefaults": {
           "arrowcolor": "#2a3f5f",
           "arrowhead": 0,
           "arrowwidth": 1
          },
          "autotypenumbers": "strict",
          "coloraxis": {
           "colorbar": {
            "outlinewidth": 0,
            "ticks": ""
           }
          },
          "colorscale": {
           "diverging": [
            [
             0,
             "#8e0152"
            ],
            [
             0.1,
             "#c51b7d"
            ],
            [
             0.2,
             "#de77ae"
            ],
            [
             0.3,
             "#f1b6da"
            ],
            [
             0.4,
             "#fde0ef"
            ],
            [
             0.5,
             "#f7f7f7"
            ],
            [
             0.6,
             "#e6f5d0"
            ],
            [
             0.7,
             "#b8e186"
            ],
            [
             0.8,
             "#7fbc41"
            ],
            [
             0.9,
             "#4d9221"
            ],
            [
             1,
             "#276419"
            ]
           ],
           "sequential": [
            [
             0,
             "#0d0887"
            ],
            [
             0.1111111111111111,
             "#46039f"
            ],
            [
             0.2222222222222222,
             "#7201a8"
            ],
            [
             0.3333333333333333,
             "#9c179e"
            ],
            [
             0.4444444444444444,
             "#bd3786"
            ],
            [
             0.5555555555555556,
             "#d8576b"
            ],
            [
             0.6666666666666666,
             "#ed7953"
            ],
            [
             0.7777777777777778,
             "#fb9f3a"
            ],
            [
             0.8888888888888888,
             "#fdca26"
            ],
            [
             1,
             "#f0f921"
            ]
           ],
           "sequentialminus": [
            [
             0,
             "#0d0887"
            ],
            [
             0.1111111111111111,
             "#46039f"
            ],
            [
             0.2222222222222222,
             "#7201a8"
            ],
            [
             0.3333333333333333,
             "#9c179e"
            ],
            [
             0.4444444444444444,
             "#bd3786"
            ],
            [
             0.5555555555555556,
             "#d8576b"
            ],
            [
             0.6666666666666666,
             "#ed7953"
            ],
            [
             0.7777777777777778,
             "#fb9f3a"
            ],
            [
             0.8888888888888888,
             "#fdca26"
            ],
            [
             1,
             "#f0f921"
            ]
           ]
          },
          "colorway": [
           "#636efa",
           "#EF553B",
           "#00cc96",
           "#ab63fa",
           "#FFA15A",
           "#19d3f3",
           "#FF6692",
           "#B6E880",
           "#FF97FF",
           "#FECB52"
          ],
          "font": {
           "color": "#2a3f5f"
          },
          "geo": {
           "bgcolor": "white",
           "lakecolor": "white",
           "landcolor": "#E5ECF6",
           "showlakes": true,
           "showland": true,
           "subunitcolor": "white"
          },
          "hoverlabel": {
           "align": "left"
          },
          "hovermode": "closest",
          "mapbox": {
           "style": "light"
          },
          "paper_bgcolor": "white",
          "plot_bgcolor": "#E5ECF6",
          "polar": {
           "angularaxis": {
            "gridcolor": "white",
            "linecolor": "white",
            "ticks": ""
           },
           "bgcolor": "#E5ECF6",
           "radialaxis": {
            "gridcolor": "white",
            "linecolor": "white",
            "ticks": ""
           }
          },
          "scene": {
           "xaxis": {
            "backgroundcolor": "#E5ECF6",
            "gridcolor": "white",
            "gridwidth": 2,
            "linecolor": "white",
            "showbackground": true,
            "ticks": "",
            "zerolinecolor": "white"
           },
           "yaxis": {
            "backgroundcolor": "#E5ECF6",
            "gridcolor": "white",
            "gridwidth": 2,
            "linecolor": "white",
            "showbackground": true,
            "ticks": "",
            "zerolinecolor": "white"
           },
           "zaxis": {
            "backgroundcolor": "#E5ECF6",
            "gridcolor": "white",
            "gridwidth": 2,
            "linecolor": "white",
            "showbackground": true,
            "ticks": "",
            "zerolinecolor": "white"
           }
          },
          "shapedefaults": {
           "line": {
            "color": "#2a3f5f"
           }
          },
          "ternary": {
           "aaxis": {
            "gridcolor": "white",
            "linecolor": "white",
            "ticks": ""
           },
           "baxis": {
            "gridcolor": "white",
            "linecolor": "white",
            "ticks": ""
           },
           "bgcolor": "#E5ECF6",
           "caxis": {
            "gridcolor": "white",
            "linecolor": "white",
            "ticks": ""
           }
          },
          "title": {
           "x": 0.05
          },
          "xaxis": {
           "automargin": true,
           "gridcolor": "white",
           "linecolor": "white",
           "ticks": "",
           "title": {
            "standoff": 15
           },
           "zerolinecolor": "white",
           "zerolinewidth": 2
          },
          "yaxis": {
           "automargin": true,
           "gridcolor": "white",
           "linecolor": "white",
           "ticks": "",
           "title": {
            "standoff": 15
           },
           "zerolinecolor": "white",
           "zerolinewidth": 2
          }
         }
        }
       }
      }
     },
     "metadata": {},
     "output_type": "display_data"
    }
   ],
   "source": [
    "import pandas as pd\n",
    "import numpy as np\n",
    "import plotly.graph_objects as go\n",
    "from statsmodels.tsa.arima.model import ARIMA\n",
    "from sklearn.linear_model import LogisticRegression\n",
    "\n",
    "df = pd.read_csv(\"../data/deals_updated.csv\")\n",
    "df[\"date\"] = pd.to_datetime(df[\"date\"], errors=\"coerce\")\n",
    "df[\"amount\"] = pd.to_numeric(df[\"amount\"], errors=\"coerce\")\n",
    "df = df.dropna(subset=[\"date\", \"amount\", \"roundType\"])\n",
    "df[\"year\"] = df[\"date\"].dt.year\n",
    "\n",
    "funding_stage_trends = df.groupby([\"year\", \"roundType\"]).size().unstack().fillna(0)\n",
    "\n",
    "forecast_steps = 3  # Predict 3 years ahead\n",
    "future_years = [2025, 2026, 2027]\n",
    "stage_forecast = {}\n",
    "\n",
    "for stage in funding_stage_trends.columns:\n",
    "    model = ARIMA(funding_stage_trends[stage], order=(1, 1, 1))\n",
    "    model_fit = model.fit()\n",
    "    forecast = model_fit.forecast(steps=forecast_steps)\n",
    "    stage_forecast[stage] = forecast\n",
    "\n",
    "X = funding_stage_trends.index.values.reshape(-1, 1)  # Year as input\n",
    "stage_probabilities = {}\n",
    "\n",
    "for stage in funding_stage_trends.columns:\n",
    "    y = funding_stage_trends[stage].values\n",
    "    log_model = LogisticRegression()\n",
    "    log_model.fit(X, y)\n",
    "    future_X = np.array(future_years).reshape(-1, 1)\n",
    "    prob_forecast = log_model.predict_proba(future_X)[:, 1]  # Probability of stage growth\n",
    "    stage_probabilities[stage] = prob_forecast * max(y)  # Scale to deal volume\n",
    "\n",
    "fig = go.Figure()\n",
    "\n",
    "for stage in funding_stage_trends.columns:\n",
    "    fig.add_trace(go.Scatter(\n",
    "        x=funding_stage_trends.index,\n",
    "        y=funding_stage_trends[stage],\n",
    "        mode=\"lines+markers\",\n",
    "        name=f\"Historical {stage} Deals\"\n",
    "    ))\n",
    "\n",
    "for stage, forecast in stage_forecast.items():\n",
    "    fig.add_trace(go.Scatter(\n",
    "        x=future_years,\n",
    "        y=forecast,\n",
    "        mode=\"lines+markers\",\n",
    "        name=f\"ARIMA Forecast {stage}\",\n",
    "        line=dict(dash=\"dash\")\n",
    "    ))\n",
    "\n",
    "for stage, prob_forecast in stage_probabilities.items():\n",
    "    fig.add_trace(go.Scatter(\n",
    "        x=future_years,\n",
    "        y=prob_forecast,\n",
    "        mode=\"lines+markers\",\n",
    "        name=f\"Logistic Forecast {stage}\",\n",
    "        line=dict(dash=\"dot\")\n",
    "    ))\n",
    "\n",
    "fig.update_layout(\n",
    "    legend=dict(\n",
    "        title=\"Funding Stages\",\n",
    "        x=1,  # Position legend outside the plot\n",
    "        y=1,\n",
    "        xanchor=\"left\",\n",
    "        yanchor=\"top\"\n",
    "    )\n",
    ")\n",
    "\n",
    "# Show Interactive Graph\n",
    "fig.show()"
   ]
  },
  {
   "cell_type": "markdown",
   "metadata": {},
   "source": [
    "Sectoral Trends"
   ]
  },
  {
   "cell_type": "code",
   "execution_count": null,
   "metadata": {},
   "outputs": [],
   "source": [
    "import pandas as pd\n",
    "import numpy as np\n",
    "import matplotlib.pyplot as plt\n",
    "from statsmodels.tsa.arima.model import ARIMA\n",
    "from sklearn.linear_model import LinearRegression\n",
    "\n",
    "df = pd.read_csv(\"data/deals_updated.csv\")\n",
    "df[\"date\"] = pd.to_datetime(df[\"date\"], errors=\"coerce\")\n",
    "df[\"amount\"] = pd.to_numeric(df[\"amount\"], errors=\"coerce\")\n",
    "df = df.dropna(subset=[\"date\", \"amount\", \"primaryTag\"])\n",
    "df[\"year\"] = df[\"date\"].dt.year\n",
    "\n",
    "df = df[df[\"year\"] <= 2024]\n",
    "\n",
    "sector_trends = df.groupby([\"year\", \"primaryTag\"])[\"amount\"].sum().unstack().fillna(0)\n",
    "\n",
    "top_5_sectors = sector_trends.sum().nlargest(5).index  # Get top 5 sector names\n",
    "sector_trends = sector_trends[top_5_sectors]  # Filter only the top 5 sectors\n",
    "\n",
    "sector_trends = sector_trends.interpolate(method=\"linear\", axis=0)\n",
    "\n",
    "forecast_steps = 5\n",
    "future_years = list(range(2024, 2024 + forecast_steps))  # Forecast from 2025-2029\n",
    "\n",
    "sector_forecast = {}\n",
    "\n",
    "from statsmodels.tsa.holtwinters import ExponentialSmoothing\n",
    "\n",
    "for sector in sector_trends.columns:\n",
    "    series = sector_trends[sector]\n",
    "    try:\n",
    "        model = ExponentialSmoothing(series.dropna(), trend=\"add\", seasonal=None)\n",
    "        model_fit = model.fit()\n",
    "        forecast = model_fit.forecast(steps=forecast_steps)\n",
    "    except:\n",
    "        print(f\"⚠️ ETS failed for {sector}, switching to Linear Regression\")\n",
    "        X = np.array(series.dropna().index).reshape(-1, 1)\n",
    "        y = series.dropna().values\n",
    "        lin_model = LinearRegression().fit(X, y)\n",
    "        forecast = lin_model.predict(np.array(future_years).reshape(-1, 1))\n",
    "\n",
    "    sector_forecast[sector] = forecast\n",
    "    \n",
    "plt.figure(figsize=(12, 6))\n",
    "\n",
    "colors = plt.cm.get_cmap(\"tab10\", len(sector_trends.columns))  # Assign colors\n",
    "\n",
    "for i, sector in enumerate(sector_trends.columns):\n",
    "    color = colors(i)  # Get color from colormap\n",
    "    plt.plot(sector_trends.index, sector_trends[sector], label=sector, marker=\"o\", color=color)\n",
    "    plt.plot(future_years, sector_forecast[sector], linestyle=\"dashed\", marker=\"o\", color=color)  # Forecast\n",
    "\n",
    "plt.xlabel(\"Year\")\n",
    "plt.ylabel(\"Total Investment ($)\")\n",
    "plt.title(\"Top 5 Sectoral Investment Trends & Forecast (2025-2028)\")\n",
    "plt.xticks(list(sector_trends.index) + future_years)\n",
    "plt.legend(title=\"Sector\", loc=\"upper left\", bbox_to_anchor=(1, 1))  # Single legend entry per sector\n",
    "plt.grid()\n",
    "plt.show()"
   ]
  },
  {
   "cell_type": "code",
   "execution_count": null,
   "metadata": {},
   "outputs": [],
   "source": [
    "import pandas as pd\n",
    "import numpy as np\n",
    "import matplotlib.pyplot as plt\n",
    "import seaborn as sns\n",
    "from statsmodels.tsa.arima.model import ARIMA\n",
    "from sklearn.linear_model import LinearRegression\n",
    "\n",
    "deals_df = pd.read_csv(\"../data/deals_updated.csv\")\n",
    "investors_df = pd.read_csv(\"../data/investors_updated.csv\")\n",
    "companies_df = pd.read_csv(\"../data/companies_updated.csv\")\n",
    "dealInvestor_df = pd.read_csv(\"../data/dealInvestor_updated.csv\")\n",
    "\n",
    "deals_df[\"date\"] = pd.to_datetime(deals_df[\"date\"], errors=\"coerce\")\n",
    "deals_df = deals_df.dropna(subset=[\"date\", \"amount\"])\n",
    "deals_df[\"year\"] = deals_df[\"date\"].dt.year\n",
    "\n",
    "investment_trends = deals_df.groupby(\"year\")[\"amount\"].sum().reset_index()\n",
    "\n",
    "def forecast_series(series, future_years=5):\n",
    "    series = series.dropna()\n",
    "    if len(series) < 5:\n",
    "        X = np.array(series.index).reshape(-1, 1)\n",
    "        y = series.values\n",
    "        lin_model = LinearRegression().fit(X, y)\n",
    "        future = np.array(range(series.index[-1] + 1, series.index[-1] + 1 + future_years)).reshape(-1, 1)\n",
    "        return lin_model.predict(future)\n",
    "    else:\n",
    "        model = ARIMA(series, order=(1, 1, 1))\n",
    "        model_fit = model.fit()\n",
    "        return model_fit.forecast(steps=future_years)\n",
    "\n",
    "future_years = list(range(2025, 2025 + 5))\n",
    "investment_forecast = forecast_series(investment_trends.set_index(\"year\")[\"amount\"], future_years=5)\n",
    "\n",
    "plt.figure(figsize=(10, 5))\n",
    "plt.plot(investment_trends[\"year\"], investment_trends[\"amount\"], marker=\"o\", label=\"Historical Investment\")\n",
    "plt.plot(future_years, investment_forecast, marker=\"o\", linestyle=\"dashed\", label=\"Forecast (2025-2029)\")\n",
    "plt.xlabel(\"Year\")\n",
    "plt.ylabel(\"Total Investment ($)\")\n",
    "plt.title(\"Investment Trends Forecast\")\n",
    "plt.legend()\n",
    "plt.grid()\n",
    "plt.show()\n",
    "\n",
    "deal_volume = deals_df.groupby(\"year\").size().reset_index(name=\"deal_count\")\n",
    "deal_volume_forecast = forecast_series(deal_volume.set_index(\"year\")[\"deal_count\"], future_years=5)\n",
    "\n",
    "plt.figure(figsize=(10, 5))\n",
    "plt.plot(deal_volume[\"year\"], deal_volume[\"deal_count\"], marker=\"o\", label=\"Historical Deal Volume\")\n",
    "plt.plot(future_years, deal_volume_forecast, marker=\"o\", linestyle=\"dashed\", label=\"Forecast (2025-2029)\")\n",
    "plt.xlabel(\"Year\")\n",
    "plt.ylabel(\"Number of Deals\")\n",
    "plt.title(\"Deal Volume Forecast\")\n",
    "plt.legend()\n",
    "plt.grid()\n",
    "plt.show()\n",
    "\n",
    "if \"roundType\" in deals_df.columns:\n",
    "    funding_stage_trends = deals_df.groupby([\"year\", \"roundType\"]).size().unstack().fillna(0)\n",
    "    funding_forecast = {}\n",
    "    \n",
    "    for stage in funding_stage_trends.columns:\n",
    "        funding_forecast[stage] = forecast_series(funding_stage_trends[stage], future_years=5)\n",
    "    \n",
    "    plt.figure(figsize=(12, 6))\n",
    "    for stage in funding_forecast:\n",
    "        plt.plot(future_years, funding_forecast[stage], linestyle=\"dashed\", marker=\"o\", label=stage)\n",
    "    \n",
    "    plt.xlabel(\"Year\")\n",
    "    plt.ylabel(\"Number of Deals\")\n",
    "    plt.title(\"Funding Stage Forecast (2025-2029)\")\n",
    "    plt.legend()\n",
    "    plt.grid()\n",
    "    plt.show()\n",
    "\n",
    "if \"primaryTag\" in deals_df.columns:\n",
    "    sector_trends = deals_df.groupby([\"year\", \"primaryTag\"])[\"amount\"].sum().unstack().fillna(0)\n",
    "    top_sectors = sector_trends.sum().sort_values(ascending=False).head(5).index\n",
    "    sector_forecast = {}\n",
    "    \n",
    "    for sector in top_sectors:\n",
    "        sector_forecast[sector] = forecast_series(sector_trends[sector], future_years=5)\n",
    "    \n",
    "    plt.figure(figsize=(12, 6))\n",
    "    for sector in sector_forecast:\n",
    "        plt.plot(future_years, sector_forecast[sector], linestyle=\"dashed\", marker=\"o\", label=sector)\n",
    "    \n",
    "    plt.xlabel(\"Year\")\n",
    "    plt.ylabel(\"Total Investment ($)\")\n",
    "    plt.title(\"Top 5 Sectoral Investment Trends & Forecast (2025-2029)\")\n",
    "    plt.legend()\n",
    "    plt.grid()\n",
    "    plt.show()\n"
   ]
  },
  {
   "cell_type": "code",
   "execution_count": null,
   "metadata": {},
   "outputs": [],
   "source": [
    "import pandas as pd\n",
    "import numpy as np\n",
    "import matplotlib.pyplot as plt\n",
    "from statsmodels.tsa.arima.model import ARIMA\n",
    "from sklearn.linear_model import LinearRegression\n",
    "import seaborn as sns\n",
    "\n",
    "deals_df = pd.read_csv(\"../data/deals_updated.csv\")\n",
    "investors_df = pd.read_csv(\"../data/investors_updated.csv\")\n",
    "companies_df = pd.read_csv(\"../data/companies_updated.csv\")\n",
    "deal_investor_df = pd.read_csv(\"../data/dealInvestor_updated.csv\")\n",
    "\n",
    "deals_df[\"date\"] = pd.to_datetime(deals_df[\"date\"], errors=\"coerce\")\n",
    "deals_df[\"year\"] = deals_df[\"date\"].dt.year\n",
    "deals_df = deals_df[deals_df[\"year\"] <= 2024]\n",
    "deal_investor_df = deal_investor_df[deal_investor_df[\"year\"] <= 2024]\n",
    "\n",
    "# 1. Total Investment Growth\n",
    "total_investment = deals_df.groupby(\"year\")[\"amount\"].sum()\n",
    "\n",
    "# 2. Deal Volume & Funding Size Trends\n",
    "deal_volume = deals_df.groupby(\"year\").size()\n",
    "funding_size_trends = deals_df.groupby([\"year\", \"amount\"]).size().unstack(fill_value=0)\n",
    "\n",
    "# 3. Funding Stages Forecast\n",
    "funding_stages = deals_df.groupby([\"year\", \"roundType\"]).size().unstack(fill_value=0)\n",
    "\n",
    "# 4. Sectoral Trends\n",
    "sector_trends = deals_df.groupby([\"year\", \"primaryTag\"])[\"amount\"].sum().unstack(fill_value=0)\n",
    "top_5_sectors = sector_trends.sum().nlargest(5).index\n",
    "sector_trends = sector_trends[top_5_sectors]\n",
    "\n",
    "# 5. Regional Investment Trends\n",
    "regional_trends = deals_df.groupby([\"year\", \"headquarters\"])[\"amount\"].sum().unstack(fill_value=0)\n",
    "top_5_regions = regional_trends.sum().nlargest(5).index\n",
    "regional_trends = regional_trends[top_5_regions]\n",
    "\n",
    "# 6. Investor Behavior\n",
    "investor_behavior = deal_investor_df.groupby([\"year\", \"roundType\"]).size().unstack(fill_value=0)\n",
    "\n",
    "# 7. High-Growth Startup Predictions\n",
    "top_startups = deals_df.groupby(\"companyName\")[\"amount\"].sum().nlargest(10)\n",
    "\n",
    "# Plotting\n",
    "fig, axes = plt.subplots(3, 2, figsize=(18, 15))\n",
    "\n",
    "# 1. Total Investment Growth\n",
    "axes[0, 0].plot(total_investment.index, total_investment.values, marker=\"o\", linestyle=\"-\", color=\"b\")\n",
    "axes[0, 0].set_title(\"Total Investment Growth\")\n",
    "axes[0, 0].set_xlabel(\"Year\")\n",
    "axes[0, 0].set_ylabel(\"Investment Amount ($)\")\n",
    "axes[0, 0].grid()\n",
    "\n",
    "# 2. Deal Volume & Funding Size Trends\n",
    "axes[0, 1].plot(deal_volume.index, deal_volume.values, marker=\"o\", linestyle=\"-\", color=\"g\")\n",
    "axes[0, 1].set_title(\"Deal Volume Over Time\")\n",
    "axes[0, 1].set_xlabel(\"Year\")\n",
    "axes[0, 1].set_ylabel(\"Number of Deals\")\n",
    "axes[0, 1].grid()\n",
    "\n",
    "# 3. Funding Stages Forecast\n",
    "funding_stages.plot(ax=axes[1, 0], marker=\"o\", linestyle=\"-\")\n",
    "axes[1, 0].set_title(\"Funding Stages Forecast\")\n",
    "axes[1, 0].set_xlabel(\"Year\")\n",
    "axes[1, 0].set_ylabel(\"Number of Deals\")\n",
    "axes[1, 0].legend(title=\"Funding Stage\")\n",
    "axes[1, 0].grid()\n",
    "\n",
    "# 4. Sectoral Trends\n",
    "sector_trends.plot(ax=axes[1, 1], marker=\"o\", linestyle=\"-\")\n",
    "axes[1, 1].set_title(\"Sectoral Trends\")\n",
    "axes[1, 1].set_xlabel(\"Year\")\n",
    "axes[1, 1].set_ylabel(\"Investment Amount ($)\")\n",
    "axes[1, 1].legend(title=\"Sector\")\n",
    "axes[1, 1].grid()\n",
    "\n",
    "# 5. Regional Investment Trends\n",
    "regional_trends.plot(ax=axes[2, 0], marker=\"o\", linestyle=\"-\")\n",
    "axes[2, 0].set_title(\"Regional Investment Trends\")\n",
    "axes[2, 0].set_xlabel(\"Year\")\n",
    "axes[2, 0].set_ylabel(\"Investment Amount ($)\")\n",
    "axes[2, 0].legend(title=\"Region\")\n",
    "axes[2, 0].grid()\n",
    "\n",
    "# 6. Investor Behavior\n",
    "investor_behavior.plot(ax=axes[2, 1], marker=\"o\", linestyle=\"-\")\n",
    "axes[2, 1].set_title(\"Investor Behavior\")\n",
    "axes[2, 1].set_xlabel(\"Year\")\n",
    "axes[2, 1].set_ylabel(\"Number of Investments\")\n",
    "axes[2, 1].legend(title=\"Investor Type\")\n",
    "axes[2, 1].grid()\n",
    "\n",
    "plt.tight_layout()\n",
    "plt.show()\n"
   ]
  },
  {
   "cell_type": "code",
   "execution_count": null,
   "metadata": {},
   "outputs": [],
   "source": [
    "import pandas as pd\n",
    "import numpy as np\n",
    "import matplotlib.pyplot as plt\n",
    "from sklearn.preprocessing import PolynomialFeatures\n",
    "from sklearn.linear_model import LinearRegression\n",
    "\n",
    "df = pd.read_csv(\"../data/deals_updated.csv\")\n",
    "df[\"date\"] = pd.to_datetime(df[\"date\"], errors=\"coerce\")\n",
    "df[\"amount\"] = pd.to_numeric(df[\"amount\"], errors=\"coerce\")\n",
    "df = df.dropna(subset=[\"date\", \"amount\"])\n",
    "df[\"year_quarter\"] = df[\"date\"].dt.to_period(\"Q\")\n",
    "\n",
    "quarterly_investment = df.groupby(\"year_quarter\")[\"amount\"].sum().reset_index()\n",
    "quarterly_investment[\"Moving_Avg\"] = quarterly_investment[\"amount\"].rolling(window=4, min_periods=1).mean()\n",
    "quarterly_investment[\"quarter_index\"] = np.arange(len(quarterly_investment))\n",
    "\n",
    "X = quarterly_investment[[\"quarter_index\"]]\n",
    "y = quarterly_investment[\"Moving_Avg\"]\n",
    "\n",
    "poly = PolynomialFeatures(degree=3)\n",
    "X_poly = poly.fit_transform(X)\n",
    "\n",
    "model = LinearRegression().fit(X_poly, y)\n",
    "\n",
    "forecast_steps = 3\n",
    "future_quarters = [str(quarterly_investment[\"year_quarter\"].iloc[-1] + i) for i in range(1, forecast_steps + 1)]\n",
    "future_index = np.arange(len(quarterly_investment), len(quarterly_investment) + forecast_steps).reshape(-1, 1)\n",
    "future_poly = poly.transform(future_index)\n",
    "forecast_values = model.predict(future_poly)\n",
    "\n",
    "plt.figure(figsize=(10, 5))\n",
    "plt.plot(quarterly_investment[\"year_quarter\"].astype(str), quarterly_investment[\"amount\"], label=\"Historical Data\", marker=\"o\", linestyle=\"-\")\n",
    "plt.plot(quarterly_investment[\"year_quarter\"].astype(str), quarterly_investment[\"Moving_Avg\"], label=\"Moving Average\", linestyle=\"dashed\", color=\"orange\")\n",
    "plt.plot(future_quarters, forecast_values, label=\"Polynomial Trend Forecast (Next 12 Quarters)\", linestyle=\"dashed\", marker=\"o\", color=\"red\")\n",
    "\n",
    "plt.xlabel(\"Quarter\")\n",
    "plt.ylabel(\"Investment Amount ($)\")\n",
    "plt.title(\"Quarterly Investment Forecast (Polynomial Trend)\")\n",
    "plt.xticks(rotation=45)\n",
    "plt.legend()\n",
    "plt.grid()\n",
    "plt.show()"
   ]
  }
 ],
 "metadata": {
  "kernelspec": {
   "display_name": "env",
   "language": "python",
   "name": "python3"
  },
  "language_info": {
   "codemirror_mode": {
    "name": "ipython",
    "version": 3
   },
   "file_extension": ".py",
   "mimetype": "text/x-python",
   "name": "python",
   "nbconvert_exporter": "python",
   "pygments_lexer": "ipython3",
   "version": "3.10.16"
  }
 },
 "nbformat": 4,
 "nbformat_minor": 2
}
